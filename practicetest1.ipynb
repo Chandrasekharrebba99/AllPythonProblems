{
 "cells": [
  {
   "cell_type": "markdown",
   "id": "e51dfd50",
   "metadata": {},
   "source": [
    "# sum the given number 98675 is 9+8+6+7+5 = 35"
   ]
  },
  {
   "cell_type": "code",
   "execution_count": 9,
   "id": "596b7d0d",
   "metadata": {},
   "outputs": [
    {
     "name": "stdout",
     "output_type": "stream",
     "text": [
      "5235\n"
     ]
    },
    {
     "data": {
      "text/plain": [
       "15"
      ]
     },
     "execution_count": 9,
     "metadata": {},
     "output_type": "execute_result"
    }
   ],
   "source": [
    "def sumifun(num):\n",
    "    sumi = 0\n",
    "\n",
    "    for i in range(len(str(num))):\n",
    "        sumi += int(num[i])\n",
    "    return sumi\n",
    "num = input()\n",
    "sumifun(num)"
   ]
  },
  {
   "cell_type": "markdown",
   "id": "200b830e",
   "metadata": {},
   "source": [
    "# product num 123 =    1 * 2  * 3=6"
   ]
  },
  {
   "cell_type": "code",
   "execution_count": 13,
   "id": "6e7f970c",
   "metadata": {},
   "outputs": [
    {
     "name": "stdout",
     "output_type": "stream",
     "text": [
      "123\n"
     ]
    },
    {
     "data": {
      "text/plain": [
       "6"
      ]
     },
     "execution_count": 13,
     "metadata": {},
     "output_type": "execute_result"
    }
   ],
   "source": [
    "def productfun(num):\n",
    "    product = 1\n",
    "\n",
    "    for i in range(len(str(num))):\n",
    "        product*= int(num[i])\n",
    "    return product\n",
    "\n",
    "num = input()\n",
    "productfun(num)"
   ]
  },
  {
   "cell_type": "markdown",
   "id": "bdb8f28b",
   "metadata": {},
   "source": [
    "# factorial in loop"
   ]
  },
  {
   "cell_type": "code",
   "execution_count": 17,
   "id": "ff4b67e9",
   "metadata": {},
   "outputs": [
    {
     "name": "stdout",
     "output_type": "stream",
     "text": [
      "5\n"
     ]
    },
    {
     "data": {
      "text/plain": [
       "120"
      ]
     },
     "execution_count": 17,
     "metadata": {},
     "output_type": "execute_result"
    }
   ],
   "source": [
    "def factorial(num):\n",
    "    \n",
    "    prod = 1\n",
    "    for i in range(1,num+1):\n",
    "        prod *= i\n",
    "    return prod\n",
    "\n",
    "num = int(input())\n",
    "factorial(num)"
   ]
  },
  {
   "cell_type": "markdown",
   "id": "991c729b",
   "metadata": {},
   "source": [
    "# factorial in recursive way"
   ]
  },
  {
   "cell_type": "code",
   "execution_count": 18,
   "id": "6f443e9b",
   "metadata": {},
   "outputs": [
    {
     "data": {
      "text/plain": [
       "120"
      ]
     },
     "execution_count": 18,
     "metadata": {},
     "output_type": "execute_result"
    }
   ],
   "source": [
    "def fact(num):\n",
    "    if num == 1:\n",
    "        return 1\n",
    "    else:\n",
    "        return num*fact(num-1)\n",
    "fact(5)"
   ]
  },
  {
   "cell_type": "markdown",
   "id": "8c7387b8",
   "metadata": {},
   "source": [
    "#  reverse the number"
   ]
  },
  {
   "cell_type": "code",
   "execution_count": 1,
   "id": "c816610f",
   "metadata": {},
   "outputs": [
    {
     "data": {
      "text/plain": [
       "42321"
      ]
     },
     "execution_count": 1,
     "metadata": {},
     "output_type": "execute_result"
    }
   ],
   "source": [
    "def  palindrome(num):\n",
    "    sumi = 0\n",
    "\n",
    "    while num>0:\n",
    "        \n",
    "        r = num%10\n",
    "        sumi = (sumi*10)+r\n",
    "        num = num//10\n",
    "\n",
    "        \n",
    "    return sumi\n",
    "palindrome(12324) "
   ]
  },
  {
   "cell_type": "markdown",
   "id": "94682591",
   "metadata": {},
   "source": [
    "# reverse the string"
   ]
  },
  {
   "cell_type": "code",
   "execution_count": 11,
   "id": "e07d8a5e",
   "metadata": {},
   "outputs": [
    {
     "data": {
      "text/plain": [
       "'udnahc'"
      ]
     },
     "execution_count": 11,
     "metadata": {},
     "output_type": "execute_result"
    }
   ],
   "source": [
    "def revstring(str1):\n",
    "    sums = \"\"\n",
    "    for i in range(len(str1)-1,-1,-1):\n",
    "        sums+=str1[i]\n",
    "    return sums\n",
    "revstring(\"chandu\")"
   ]
  },
  {
   "cell_type": "markdown",
   "id": "a111356a",
   "metadata": {},
   "source": [
    "# spy number"
   ]
  },
  {
   "cell_type": "code",
   "execution_count": 22,
   "id": "7c6c32d2",
   "metadata": {},
   "outputs": [
    {
     "name": "stdout",
     "output_type": "stream",
     "text": [
      "1412\n",
      "8\n",
      "8\n"
     ]
    }
   ],
   "source": [
    "#sum of all numbers equal to product of all numbers\n",
    "\n",
    "num = int(input())\n",
    "\n",
    "fun = str(num)\n",
    "sumi = 0\n",
    "prod = 1\n",
    "for i in fun:\n",
    "    sumi = sumi+int(i)\n",
    "    prod = prod*int(i)\n",
    "print(sumi)\n",
    "print(prod) "
   ]
  },
  {
   "cell_type": "markdown",
   "id": "29d17dda",
   "metadata": {},
   "source": [
    "# frequency count in dictionary"
   ]
  },
  {
   "cell_type": "code",
   "execution_count": 4,
   "id": "ae3fe6fc",
   "metadata": {},
   "outputs": [
    {
     "name": "stdout",
     "output_type": "stream",
     "text": [
      "HighestFrequency count 3\n",
      "['Sound', 'waves', 'cannot', 'travel', 'through', 'a', 'vacuum.', \"'Outer\", \"space'\", 'begins', 'about', '100', 'km', 'above', 'the', 'Earth,', 'where', 'the', 'shell', 'of', 'air', 'around', 'our', 'planet', 'disappears.', 'With', 'no', 'air', 'to', 'scatter', 'sunlight', 'and', 'produce', 'a', 'blue', 'sky,', 'space', 'appears', 'as', 'a', 'black', 'blanket', 'dotted', 'with', 'stars.', 'Space', 'is', 'usually', 'regarded', 'as', 'being', 'completely', 'empty.']\n",
      "{'Sound': 1, 'waves': 1, 'cannot': 1, 'travel': 1, 'through': 1, 'a': 3, 'vacuum.': 1, \"'Outer\": 1, \"space'\": 1, 'begins': 1, 'about': 1, '100': 1, 'km': 1, 'above': 1, 'the': 2, 'Earth,': 1, 'where': 1, 'shell': 1, 'of': 1, 'air': 2, 'around': 1, 'our': 1, 'planet': 1, 'disappears.': 1, 'With': 1, 'no': 1, 'to': 1, 'scatter': 1, 'sunlight': 1, 'and': 1, 'produce': 1, 'blue': 1, 'sky,': 1, 'space': 1, 'appears': 1, 'as': 2, 'black': 1, 'blanket': 1, 'dotted': 1, 'with': 1, 'stars.': 1, 'Space': 1, 'is': 1, 'usually': 1, 'regarded': 1, 'being': 1, 'completely': 1, 'empty.': 1}\n",
      "Enter the value of frequency this will print the \n",
      "a\n"
     ]
    }
   ],
   "source": [
    "string = \"Sound waves cannot travel through a vacuum. 'Outer space' begins about 100 km above the Earth, where the shell of air around our planet disappears. With no air to scatter sunlight and produce a blue sky, space appears as a black blanket dotted with stars. Space is usually regarded as being completely empty.\"\n",
    "\n",
    "new = list(map(str,string.split(\" \")))\n",
    "count = 0\n",
    "maxcount = 0\n",
    "dicte = dict()\n",
    "for i in range(len(new)):\n",
    "    count = 0\n",
    "    for j in range(len(new)):\n",
    "        if(new[i] == new[j]):\n",
    "            count +=1\n",
    "    dicte[new[i]] = count\n",
    "    maxcount = max(count,maxcount)\n",
    "    \n",
    "print(\"HighestFrequency count\",maxcount)\n",
    "print(new)       \n",
    "print(dicte)\n",
    "\n",
    "print(\"Enter the value of frequency this will print the \")\n",
    "\n",
    "for key , values in dicte.items():\n",
    "    if(values==maxcount):\n",
    "        print(key)\n",
    "        \n",
    "\n"
   ]
  },
  {
   "cell_type": "markdown",
   "id": "703743ca",
   "metadata": {},
   "source": [
    "# fibunaci series"
   ]
  },
  {
   "cell_type": "code",
   "execution_count": 7,
   "id": "c4b6a4d2",
   "metadata": {},
   "outputs": [
    {
     "name": "stdout",
     "output_type": "stream",
     "text": [
      "0\n",
      "1\n",
      "1\n",
      "2\n",
      "3\n",
      "5\n",
      "8\n",
      "13\n",
      "21\n",
      "34\n"
     ]
    }
   ],
   "source": [
    "def fibu(num):\n",
    "    n0,n1 = 0,1\n",
    "    count = 0\n",
    "    while count<num:\n",
    "        print(n0)\n",
    "        nth = n0+n1\n",
    "        n0=n1\n",
    "        n1=nth\n",
    "        count+=1\n",
    "fibu(10)"
   ]
  },
  {
   "cell_type": "markdown",
   "id": "2697d3a0",
   "metadata": {},
   "source": [
    "# print if given number is prime or not"
   ]
  },
  {
   "cell_type": "code",
   "execution_count": 3,
   "id": "21b67c96",
   "metadata": {},
   "outputs": [
    {
     "name": "stdout",
     "output_type": "stream",
     "text": [
      "Not a Prime\n"
     ]
    }
   ],
   "source": [
    "#primeNumbers\n",
    "def checkprime(n):\n",
    "    flag = True\n",
    "    for i in range(2,(n//2)+1):\n",
    "        if(n%i == 0):\n",
    "            flag = False\n",
    "            break\n",
    "    if(flag):\n",
    "        print(\"Prime\")\n",
    "    else:\n",
    "        print(\"Not a Prime\")\n",
    "\n",
    "\n",
    "n =4\n",
    "\n",
    "checkprime(n)"
   ]
  },
  {
   "cell_type": "markdown",
   "id": "dc361757",
   "metadata": {},
   "source": [
    "# GCD"
   ]
  },
  {
   "cell_type": "code",
   "execution_count": 1,
   "id": "956b12d9",
   "metadata": {},
   "outputs": [
    {
     "data": {
      "text/plain": [
       "6"
      ]
     },
     "execution_count": 1,
     "metadata": {},
     "output_type": "execute_result"
    }
   ],
   "source": [
    "def mini(n,m):\n",
    "    minim = n\n",
    "    if(m<minim):\n",
    "        minim = m\n",
    "    l = []\n",
    "    for i in range(1,minim+1):\n",
    "        if(n%i == 0 and m%i == 0):\n",
    "            l.append(i)\n",
    "    return l[-1]\n",
    "mini(54,24)"
   ]
  },
  {
   "cell_type": "markdown",
   "id": "43660329",
   "metadata": {},
   "source": [
    "# Armstrog\n",
    "## 153 is Armstrog   1^3+5^3+3^3 = 153"
   ]
  },
  {
   "cell_type": "code",
   "execution_count": 3,
   "id": "9b58a550",
   "metadata": {},
   "outputs": [
    {
     "name": "stdout",
     "output_type": "stream",
     "text": [
      "153\n",
      "3\n",
      "153\n",
      "Armstrong\n"
     ]
    }
   ],
   "source": [
    "num = int(input())\n",
    "print(\"Enter the degree\")\n",
    "k = int(input())\n",
    "n = str(num)\n",
    "\n",
    "sumi = 0\n",
    "for i in n:\n",
    "    sumi +=  int(i)**k\n",
    "print(sumi)\n",
    "if(num == sumi):\n",
    "    print(\"Armstrong\")\n",
    "else:\n",
    "    print(\"Not an armstrong\")"
   ]
  },
  {
   "cell_type": "markdown",
   "id": "fbd6c19e",
   "metadata": {},
   "source": [
    "# LCM"
   ]
  },
  {
   "cell_type": "code",
   "execution_count": 25,
   "id": "2e749a0b",
   "metadata": {},
   "outputs": [
    {
     "data": {
      "text/plain": [
       "216"
      ]
     },
     "execution_count": 25,
     "metadata": {},
     "output_type": "execute_result"
    }
   ],
   "source": [
    "def lcm1(a,b):\n",
    "    if(a>b):\n",
    "        greater = a\n",
    "    else:\n",
    "        greater = b\n",
    "    while(True):\n",
    "        if(greater%a ==0 and greater%b ==0):\n",
    "            lcm = greater\n",
    "            break\n",
    "        greater +=1\n",
    "    return lcm\n",
    "lcm1(54,24)"
   ]
  },
  {
   "cell_type": "markdown",
   "id": "8d51b977",
   "metadata": {},
   "source": [
    "# print digits in a string"
   ]
  },
  {
   "cell_type": "code",
   "execution_count": 6,
   "id": "dd72b110",
   "metadata": {},
   "outputs": [
    {
     "name": "stdout",
     "output_type": "stream",
     "text": [
      "102919818039309\n"
     ]
    }
   ],
   "source": [
    "words = \"shdb1029u198j18jnu039u309\"\n",
    "\n",
    "new = \"\"\n",
    "for i in range(len(words)):\n",
    "    if(words[i].isdigit()):\n",
    "        new+=words[i]\n",
    "print(new)"
   ]
  },
  {
   "cell_type": "markdown",
   "id": "8a4e3291",
   "metadata": {},
   "source": [
    "# find  even numbers in a string"
   ]
  },
  {
   "cell_type": "code",
   "execution_count": 8,
   "id": "af566f33",
   "metadata": {},
   "outputs": [
    {
     "name": "stdout",
     "output_type": "stream",
     "text": [
      "2242442\n"
     ]
    }
   ],
   "source": [
    "nums = '13231234234425'\n",
    "nums = int(nums)\n",
    "nums1 = str(nums)\n",
    "evennums = \"\"\n",
    "for i in range(len(nums1)):\n",
    "    if(int(nums1[i])%2 ==0):\n",
    "        evennums += nums1[i]\n",
    "print(evennums)"
   ]
  },
  {
   "cell_type": "markdown",
   "id": "9f0ad8b9",
   "metadata": {},
   "source": [
    "# print prime Numbers between"
   ]
  },
  {
   "cell_type": "code",
   "execution_count": 27,
   "id": "f30b83bc",
   "metadata": {},
   "outputs": [
    {
     "name": "stdout",
     "output_type": "stream",
     "text": [
      "23\n",
      "29\n",
      "31\n",
      "37\n",
      "41\n",
      "43\n",
      "47\n"
     ]
    }
   ],
   "source": [
    "def prime(mini,maxi):\n",
    "    \n",
    "    for i in range(mini,maxi):\n",
    "        flag = True\n",
    "        for j in range(2,(i//2)+1):\n",
    "            if(i%j ==0):\n",
    "                flag = False\n",
    "        if(flag==True):\n",
    "            print(i)\n",
    "prime(20,50)"
   ]
  },
  {
   "cell_type": "markdown",
   "id": "d42fdec1",
   "metadata": {},
   "source": [
    "# print yes if the triangle forms right angle triangle or not"
   ]
  },
  {
   "cell_type": "code",
   "execution_count": 12,
   "id": "6780ad88",
   "metadata": {},
   "outputs": [
    {
     "name": "stdout",
     "output_type": "stream",
     "text": [
      "3\n",
      "4\n",
      "5\n",
      "yes\n"
     ]
    }
   ],
   "source": [
    "x = int(input())\n",
    "y = int(input())\n",
    "z = int(input())\n",
    "\n",
    "if(x**2 +y**2 == z**2 or y**2 + z**2 == x**2 or z**2 +x**2 == y**2 ):\n",
    "    print(\"yes\")\n",
    "else:\n",
    "    print(\"not\")"
   ]
  },
  {
   "cell_type": "code",
   "execution_count": 10,
   "id": "7b81240a",
   "metadata": {},
   "outputs": [
    {
     "data": {
      "text/plain": [
       "169"
      ]
     },
     "execution_count": 10,
     "metadata": {},
     "output_type": "execute_result"
    }
   ],
   "source": [
    "(3**2 + 2**2)**2"
   ]
  },
  {
   "cell_type": "markdown",
   "id": "7128ec73",
   "metadata": {},
   "source": [
    "# print prime numbers in the range"
   ]
  },
  {
   "cell_type": "markdown",
   "id": "0eca47a2",
   "metadata": {},
   "source": [
    "# print all zeros first and ones last"
   ]
  },
  {
   "cell_type": "code",
   "execution_count": 13,
   "id": "32a8a94d",
   "metadata": {},
   "outputs": [
    {
     "name": "stdout",
     "output_type": "stream",
     "text": [
      "[0, 0, 0, 0, 0, 0, 0, 0, 1, 1, 1, 1, 1, 1, 1, 1, 1, 1, 1]\n"
     ]
    }
   ],
   "source": [
    "arr = [0,1,0,1,1,0,0,0,0,1,1,1,1,0,1,1,0,1,1]\n",
    "ones = []\n",
    "Zeros = []\n",
    "\n",
    "for i in range(len(arr)):\n",
    "    if(arr[i] == 0):\n",
    "        Zeros.append(arr[i])\n",
    "for j in range(len(arr)):\n",
    "    if(arr[j] == 1):\n",
    "        ones.append(arr[j])\n",
    "ones = Zeros+ones\n",
    "print(ones)"
   ]
  },
  {
   "cell_type": "markdown",
   "id": "e1b35a88",
   "metadata": {},
   "source": [
    "# -----------------------------------------subarray------------------------------------------------------\n"
   ]
  },
  {
   "cell_type": "code",
   "execution_count": 24,
   "id": "3a4ec97c",
   "metadata": {},
   "outputs": [
    {
     "name": "stdout",
     "output_type": "stream",
     "text": [
      "1 \n",
      "1 2 \n",
      "1 2 3 \n",
      "1 2 3 4 \n",
      "1 2 3 4 5 \n",
      "1 2 3 4 5 6 \n",
      "2 \n",
      "2 3 \n",
      "2 3 4 \n",
      "2 3 4 5 \n",
      "2 3 4 5 6 \n",
      "3 \n",
      "3 4 \n",
      "3 4 5 \n",
      "3 4 5 6 \n",
      "4 \n",
      "4 5 \n",
      "4 5 6 \n",
      "5 \n",
      "5 6 \n",
      "6 \n"
     ]
    }
   ],
   "source": [
    "#subarraya\n",
    "arr = [1,2,3,4,5,6]\n",
    "for i in range(len(arr)):\n",
    "    for j in range(i,len(arr)):\n",
    "        for k in range(i,j+1):\n",
    "            print(arr[k],end=\" \")\n",
    "        print()"
   ]
  },
  {
   "cell_type": "code",
   "execution_count": 25,
   "id": "fb5c8b0f",
   "metadata": {},
   "outputs": [
    {
     "name": "stdout",
     "output_type": "stream",
     "text": [
      "[[1], [1, 2], [1, 2, 3], [1, 2, 3, 4], [1, 2, 3, 4, 5], [1, 2, 3, 4, 5, 6], [2], [2, 3], [2, 3, 4], [2, 3, 4, 5], [2, 3, 4, 5, 6], [3], [3, 4], [3, 4, 5], [3, 4, 5, 6], [4], [4, 5], [4, 5, 6], [5], [5, 6], [6]]\n"
     ]
    }
   ],
   "source": [
    "#subarraya in nested array easy to manupilate\n",
    "arr = [1,2,3,4,5,6]\n",
    "temparr = []\n",
    "for i in range(len(arr)):\n",
    "    for j in range(i,len(arr)):\n",
    "        temp = []\n",
    "        for k in range(i,j+1):\n",
    "            temp.append(arr[k])\n",
    "        temparr.append(temp)\n",
    "print(temparr)"
   ]
  },
  {
   "cell_type": "code",
   "execution_count": 30,
   "id": "b5acb853",
   "metadata": {},
   "outputs": [
    {
     "name": "stdout",
     "output_type": "stream",
     "text": [
      "[[1], [1, 23], [1, 23, 12], [1, 23, 12, 3], [1, 23, 12, 3, 423], [1, 23, 12, 3, 423, 4], [23], [23, 12], [23, 12, 3], [23, 12, 3, 423], [23, 12, 3, 423, 4], [12], [12, 3], [12, 3, 423], [12, 3, 423, 4], [3], [3, 423], [3, 423, 4], [423], [423, 4], [4]]\n",
      "Number of subarrays:\n",
      "21\n"
     ]
    }
   ],
   "source": [
    "arr = [1,23,12,3,423,4]\n",
    "temparr = []\n",
    "count = 0\n",
    "for i in range(len(arr)):\n",
    "    for j in range(i,len(arr)):\n",
    "        temparr.append([])\n",
    "        for k in range(i,j+1):\n",
    "            temparr[count].append(arr[k])\n",
    "        count +=1 \n",
    "print(temparr)\n",
    "print(\"Number of subarrays:\")\n",
    "print(count)"
   ]
  },
  {
   "cell_type": "code",
   "execution_count": 29,
   "id": "965f7fe7",
   "metadata": {},
   "outputs": [
    {
     "name": "stdout",
     "output_type": "stream",
     "text": [
      "6\n"
     ]
    }
   ],
   "source": [
    "#  find maximum sum in subarray 4+-1+2+1=6\n",
    "arr = [-2,1,-3,4,-1,2,1,-5,4]\n",
    "maxi = -23435436\n",
    "for i in range(len(arr)):\n",
    "    for j in range(i,len(arr)):\n",
    "        sumi = 0\n",
    "        for k in range(i,j+1):\n",
    "            sumi+=arr[k]\n",
    "        maxi = max(sumi,maxi)\n",
    "print(maxi)"
   ]
  },
  {
   "cell_type": "markdown",
   "id": "fec52b7a",
   "metadata": {},
   "source": [
    "# count how many times CDC is repeated in subarray ABCDCDC"
   ]
  },
  {
   "cell_type": "code",
   "execution_count": 23,
   "id": "49dacaea",
   "metadata": {},
   "outputs": [
    {
     "name": "stdout",
     "output_type": "stream",
     "text": [
      "['A', 'B', 'C', 'D', 'C', 'D', 'C']\n",
      "['A', 'AB', 'ABC', 'ABCD', 'ABCDC', 'ABCDCD', 'ABCDCDC', 'B', 'BC', 'BCD', 'BCDC', 'BCDCD', 'BCDCDC', 'C', 'CD', 'CDC', 'CDCD', 'CDCDC', 'D', 'DC', 'DCD', 'DCDC', 'C', 'CD', 'CDC', 'D', 'DC', 'C', '']\n",
      "2\n"
     ]
    }
   ],
   "source": [
    "str1 = 'ABCDCDC'\n",
    "list1 = []\n",
    "list2 = \"\"\n",
    "count = 0\n",
    "\n",
    "for i in range(len(str1)):\n",
    "    list1.append(str1[i])\n",
    "print(list1)\n",
    "for i in range(len(list1)):\n",
    "    for j in range(i,len(list1)):\n",
    "\n",
    "        for k in range(i,j+1):\n",
    "            list2=list2+list1[k]\n",
    "        list2 =list2+\",\"\n",
    "list2 = list2.split(\",\")\n",
    "print(list2)\n",
    "for i in list2:\n",
    "    if(i == 'CDC'):\n",
    "        count = count + 1\n",
    "print(count)"
   ]
  },
  {
   "cell_type": "markdown",
   "id": "94708f80",
   "metadata": {},
   "source": [
    "#  ------------------------------------------subsequence-----------------------------------------------------------------------"
   ]
  },
  {
   "cell_type": "code",
   "execution_count": 1,
   "id": "eed586f7",
   "metadata": {},
   "outputs": [
    {
     "data": {
      "text/plain": [
       "16"
      ]
     },
     "execution_count": 1,
     "metadata": {},
     "output_type": "execute_result"
    }
   ],
   "source": [
    "2**4"
   ]
  },
  {
   "cell_type": "code",
   "execution_count": 27,
   "id": "d93b36f6",
   "metadata": {},
   "outputs": [
    {
     "name": "stdout",
     "output_type": "stream",
     "text": [
      "Subsequence:\n",
      "\n",
      "1 \n",
      "2 \n",
      "1 2 \n",
      "3 \n",
      "1 3 \n",
      "2 3 \n",
      "1 2 3 \n",
      "4 \n",
      "1 4 \n",
      "2 4 \n",
      "1 2 4 \n",
      "3 4 \n",
      "1 3 4 \n",
      "2 3 4 \n",
      "1 2 3 4 \n"
     ]
    }
   ],
   "source": [
    "arr = [1,2,3,4]\n",
    "num = len(arr)\n",
    "print(\"Subsequence:\")\n",
    "for i in range(2**num):\n",
    "    for j in range(len(arr)):\n",
    "        if(i & (1<<j)):\n",
    "            print(arr[j],end = \" \")\n",
    "    print()"
   ]
  },
  {
   "cell_type": "markdown",
   "id": "3b2f0821",
   "metadata": {},
   "source": [
    "# Print Maximum and minimum in an array"
   ]
  },
  {
   "cell_type": "code",
   "execution_count": null,
   "id": "fdafb2bc",
   "metadata": {},
   "outputs": [],
   "source": [
    "def maxandmin(arr,n):\n",
    "    maxi = arr[0]\n",
    "    mini = arr[0]\n",
    "    for i in range(n):\n",
    "        if(arr[i] >maxi):\n",
    "            maxi = arr[i]\n",
    "        if(arr[i]<mini):\n",
    "            mini = arr[i]\n",
    "    return maxi,mini\n",
    "arr = [123,21,32,4,23,43,5,34]\n",
    "n = len(arr)\n",
    "maxandmin(arr,n)"
   ]
  },
  {
   "cell_type": "markdown",
   "id": "34d586a2",
   "metadata": {},
   "source": [
    "# print a Matrix given Rows *  columns"
   ]
  },
  {
   "cell_type": "code",
   "execution_count": 4,
   "id": "c8ba89e9",
   "metadata": {},
   "outputs": [
    {
     "name": "stdout",
     "output_type": "stream",
     "text": [
      "3\n",
      "5\n",
      "[[0, 0, 0, 0, 0], [0, 0, 0, 0, 0], [0, 0, 0, 0, 0]]\n"
     ]
    }
   ],
   "source": [
    "mat = []\n",
    "rows = int(input())\n",
    "colmns = int(input())\n",
    "\n",
    "for i in range(rows):\n",
    "    mat.append([])\n",
    "for i in range(rows):\n",
    "    for j in range(colmns):\n",
    "        mat[i].append(0)\n",
    "print(mat)\n"
   ]
  },
  {
   "cell_type": "markdown",
   "id": "72c6e073",
   "metadata": {},
   "source": [
    "# sum the rows and enter at the end"
   ]
  },
  {
   "cell_type": "code",
   "execution_count": 13,
   "id": "0b667e88",
   "metadata": {},
   "outputs": [
    {
     "name": "stdout",
     "output_type": "stream",
     "text": [
      "[46, 61, 121, 89]\n",
      "[[12, 2, 32, 46], [54, 3, 4, 61], [53, 34, 34, 121], [12, 65, 12, 89]]\n"
     ]
    }
   ],
   "source": [
    "\n",
    "\n",
    "Mt = [[12,2,32],[54,3,4],[53,34,34],[12,65,12]]\n",
    "MT1 = []\n",
    "\n",
    "for i in range(len(Mt)):\n",
    "    sumi = 0\n",
    "    for j in range(len(Mt[0])):\n",
    "        sumi +=Mt[i][j]\n",
    "    MT1.append(sumi)\n",
    "print(MT1)\n",
    "\n",
    "for i in range(len(MT1)):\n",
    "        Mt[i].append(MT1[i])\n",
    "print(Mt)"
   ]
  },
  {
   "cell_type": "markdown",
   "id": "12ed59c9",
   "metadata": {},
   "source": [
    "# sum the diagonal\n"
   ]
  },
  {
   "cell_type": "code",
   "execution_count": 14,
   "id": "dbe5ee53",
   "metadata": {},
   "outputs": [
    {
     "name": "stdout",
     "output_type": "stream",
     "text": [
      "49\n"
     ]
    }
   ],
   "source": [
    "#sum the diagonal elements of matrix\n",
    "\n",
    "Matt = [[12,2,32],[54,3,4],[53,34,34]]\n",
    "sumi = 0\n",
    "for i in range(len(Matt)):\n",
    "    for j in range(len(Matt)):\n",
    "        if(i ==j):\n",
    "            sumi += Matt[i][j] \n",
    "print(sumi)"
   ]
  },
  {
   "cell_type": "markdown",
   "id": "8645f716",
   "metadata": {},
   "source": [
    "# #print How many times subarray CDC came in an array"
   ]
  },
  {
   "cell_type": "code",
   "execution_count": 16,
   "id": "592b802e",
   "metadata": {},
   "outputs": [
    {
     "name": "stdout",
     "output_type": "stream",
     "text": [
      "A,AB,ABC,ABCD,ABCDC,ABCDCD,ABCDCDC,B,BC,BCD,BCDC,BCDCD,BCDCDC,C,CD,CDC,CDCD,CDCDC,D,DC,DCD,DCDC,C,CD,CDC,D,DC,C,\n",
      "\n",
      "2 times\n"
     ]
    }
   ],
   "source": [
    "string1 = \"ABCDCDC\"\n",
    "list1 = []\n",
    "li = \"\"\n",
    "\n",
    "for i in string1:\n",
    "    list1.append(i)\n",
    "#print(list1)\n",
    "\n",
    "for i in range(len(list1)):\n",
    "    for j in range(i,len(list1)):\n",
    "        for k in range(i,j+1):\n",
    "            li = li+list1[k]\n",
    "        li +=\",\"\n",
    "print(li)\n",
    "count = 0\n",
    "finallist = li.split(\",\")\n",
    "\n",
    "for i in finallist:\n",
    "    if(i == \"CDC\"):\n",
    "        count = count+1\n",
    "print()\n",
    "print(count,\"times\")"
   ]
  },
  {
   "cell_type": "markdown",
   "id": "c087d8e5",
   "metadata": {},
   "source": [
    "# rotate the array"
   ]
  },
  {
   "cell_type": "code",
   "execution_count": 17,
   "id": "4b93b95d",
   "metadata": {},
   "outputs": [
    {
     "data": {
      "text/plain": [
       "[5, 1, 2, 3, 4]"
      ]
     },
     "execution_count": 17,
     "metadata": {},
     "output_type": "execute_result"
    }
   ],
   "source": [
    "def rotate( arr, n):\n",
    "    for i in range(n):\n",
    "        arr[i],arr[n-1] = arr[n-1],arr[i]\n",
    "    return arr\n",
    "arr = [1, 2, 3, 4, 5]\n",
    "n = len(arr)\n",
    "rotate(arr,n)"
   ]
  },
  {
   "cell_type": "markdown",
   "id": "0714cb61",
   "metadata": {},
   "source": [
    "# easy way to reverse a string"
   ]
  },
  {
   "cell_type": "code",
   "execution_count": 18,
   "id": "900f3eb1",
   "metadata": {},
   "outputs": [
    {
     "data": {
      "text/plain": [
       "'udnahC'"
      ]
     },
     "execution_count": 18,
     "metadata": {},
     "output_type": "execute_result"
    }
   ],
   "source": [
    "a = \"Chandu\"\n",
    "a[::-1]"
   ]
  },
  {
   "cell_type": "code",
   "execution_count": null,
   "id": "46690162",
   "metadata": {},
   "outputs": [],
   "source": []
  },
  {
   "cell_type": "markdown",
   "id": "bf5740ea",
   "metadata": {},
   "source": [
    "# check  Anargam   (there is an easyway also )"
   ]
  },
  {
   "cell_type": "code",
   "execution_count": 20,
   "id": "19748d12",
   "metadata": {},
   "outputs": [
    {
     "name": "stdout",
     "output_type": "stream",
     "text": [
      "frog\n",
      "rogf\n",
      "Anargam\n"
     ]
    }
   ],
   "source": [
    "def createlist(string,anylist,alpha):\n",
    "    anylist = []\n",
    "    for i in string:\n",
    "        anylist.append(alpha.index(i))\n",
    "    return anylist\n",
    "    \n",
    "def sortalpha(anylist):\n",
    "    for i in range(len(anylist)):\n",
    "        for j in range(len(anylist)-i-1):\n",
    "            if(anylist[j]>anylist[j+1]):\n",
    "                anylist[j],anylist[j+1] = anylist[j+1],anylist[j]\n",
    "    return anylist\n",
    "\n",
    "def cancatstring(alpha,sortedlist):\n",
    "    newstring = \"\"\n",
    "    for i in sortedlist:\n",
    "        newstring += alpha[i]\n",
    "    return newstring\n",
    "\n",
    "def checkanargam(u,v):\n",
    "    if(u == v):\n",
    "        return \"Anargam\"\n",
    "    else:\n",
    "        return \"Not Anargam\"\n",
    "    \n",
    "alpha = \"ABCDEFGHIJKLMNOPQRSTUVWXYZabcdefghijklmnopqrstuvwxyz\"\n",
    "string1 = input()\n",
    "string2 = input()\n",
    "string1list = []\n",
    "string2list = []\n",
    "\n",
    "x = createlist(string1,string1list,alpha)\n",
    "y = createlist(string2,string2list,alpha)\n",
    "\n",
    "sortedlist1 = sortalpha(x)\n",
    "sortedlist2 = sortalpha(y)\n",
    "\n",
    "newstring1 = cancatstring(alpha,sortedlist1)\n",
    "newstring2 = cancatstring(alpha,sortedlist2)\n",
    "\n",
    "if(len(string1) != len(string2)):\n",
    "    print(\"Not Anargam\")\n",
    "else:\n",
    "    check = checkanargam(newstring1,newstring2)\n",
    "    print(check)\n"
   ]
  },
  {
   "cell_type": "code",
   "execution_count": 1,
   "id": "6bf9db00",
   "metadata": {},
   "outputs": [
    {
     "name": "stdout",
     "output_type": "stream",
     "text": [
      "12\n",
      "3\n",
      "12\n",
      "3\n",
      "14\n",
      "23\n",
      "5\n",
      "3\n",
      "645\n"
     ]
    }
   ],
   "source": [
    "arr = [12,3,12,3,14,23,5,3,645]\n",
    "for i in arr:\n",
    "    print(i)"
   ]
  },
  {
   "cell_type": "code",
   "execution_count": 9,
   "id": "c835dce0",
   "metadata": {},
   "outputs": [
    {
     "data": {
      "text/plain": [
       "'G'"
      ]
     },
     "execution_count": 9,
     "metadata": {},
     "output_type": "execute_result"
    }
   ],
   "source": [
    "def solve(s):\n",
    "    for i in range(len(s)):\n",
    "        list1 = \"\"\n",
    "        if s[i] == \" \":\n",
    "            list1 = list1+(s[i+1].upper())\n",
    "        if i == 0:\n",
    "            list1 = list1+(s[i].upper())\n",
    "        else:\n",
    "            list1 = list1+(s[i].upper())\n",
    "        \n",
    "    return list1\n",
    "solve(\"fkjvn hgvsd wefwg\")"
   ]
  },
  {
   "cell_type": "code",
   "execution_count": 11,
   "id": "bf9c9bec",
   "metadata": {},
   "outputs": [
    {
     "data": {
      "text/plain": [
       "'C'"
      ]
     },
     "execution_count": 11,
     "metadata": {},
     "output_type": "execute_result"
    }
   ],
   "source": [
    "s = \"kjcnkdjns\"\n",
    "s[2].upper()"
   ]
  },
  {
   "cell_type": "code",
   "execution_count": 12,
   "id": "f2785ab1",
   "metadata": {},
   "outputs": [
    {
     "name": "stdout",
     "output_type": "stream",
     "text": [
      "f\n",
      "k\n",
      "j\n",
      "v\n",
      "n\n",
      " \n",
      "h\n",
      "g\n",
      "v\n",
      "s\n",
      "d\n",
      " \n",
      "w\n",
      "e\n",
      "f\n",
      "w\n",
      "g\n"
     ]
    }
   ],
   "source": [
    "def solve(s):\n",
    "    for i in range(len(s)):\n",
    "\n",
    "solve(\"fkjvn hgvsd wefwg\")"
   ]
  },
  {
   "cell_type": "code",
   "execution_count": null,
   "id": "c14b66ff",
   "metadata": {},
   "outputs": [],
   "source": [
    "a =\"break\"\n",
    "b = \"brake\"\n",
    "a_part = a[:3]\n",
    "b_part = b[:3]\n"
   ]
  },
  {
   "cell_type": "code",
   "execution_count": 1,
   "id": "5062032d",
   "metadata": {},
   "outputs": [
    {
     "name": "stdout",
     "output_type": "stream",
     "text": [
      "False\n"
     ]
    }
   ],
   "source": [
    "print(1==(\"Hello\"))"
   ]
  },
  {
   "cell_type": "code",
   "execution_count": 2,
   "id": "5b996dc6",
   "metadata": {},
   "outputs": [
    {
     "data": {
      "text/plain": [
       "False"
      ]
     },
     "execution_count": 2,
     "metadata": {},
     "output_type": "execute_result"
    }
   ],
   "source": [
    "True ==\"True\""
   ]
  },
  {
   "cell_type": "code",
   "execution_count": 4,
   "id": "b1ff0cec",
   "metadata": {},
   "outputs": [
    {
     "data": {
      "text/plain": [
       "3"
      ]
     },
     "execution_count": 4,
     "metadata": {},
     "output_type": "execute_result"
    }
   ],
   "source": [
    "1329//365"
   ]
  },
  {
   "cell_type": "code",
   "execution_count": 5,
   "id": "d7e58377",
   "metadata": {},
   "outputs": [
    {
     "data": {
      "text/plain": [
       "3.6410958904109587"
      ]
     },
     "execution_count": 5,
     "metadata": {},
     "output_type": "execute_result"
    }
   ],
   "source": [
    "1329/365"
   ]
  },
  {
   "cell_type": "code",
   "execution_count": 13,
   "id": "55f8c451",
   "metadata": {},
   "outputs": [
    {
     "data": {
      "text/plain": [
       "234"
      ]
     },
     "execution_count": 13,
     "metadata": {},
     "output_type": "execute_result"
    }
   ],
   "source": [
    "1329-(3*365)"
   ]
  },
  {
   "cell_type": "code",
   "execution_count": 16,
   "id": "0373ff7d",
   "metadata": {},
   "outputs": [
    {
     "data": {
      "text/plain": [
       "33"
      ]
     },
     "execution_count": 16,
     "metadata": {},
     "output_type": "execute_result"
    }
   ],
   "source": [
    "234//7"
   ]
  },
  {
   "cell_type": "code",
   "execution_count": 19,
   "id": "147b6814",
   "metadata": {},
   "outputs": [
    {
     "data": {
      "text/plain": [
       "3"
      ]
     },
     "execution_count": 19,
     "metadata": {},
     "output_type": "execute_result"
    }
   ],
   "source": [
    "234-(33*7)"
   ]
  },
  {
   "cell_type": "code",
   "execution_count": null,
   "id": "3f838c71",
   "metadata": {},
   "outputs": [],
   "source": [
    "firstnum = int(input())\n",
    "\n",
    "\n",
    "print(int(str(firstnum)))"
   ]
  }
 ],
 "metadata": {
  "kernelspec": {
   "display_name": "Python 3 (ipykernel)",
   "language": "python",
   "name": "python3"
  },
  "language_info": {
   "codemirror_mode": {
    "name": "ipython",
    "version": 3
   },
   "file_extension": ".py",
   "mimetype": "text/x-python",
   "name": "python",
   "nbconvert_exporter": "python",
   "pygments_lexer": "ipython3",
   "version": "3.9.7"
  }
 },
 "nbformat": 4,
 "nbformat_minor": 5
}
